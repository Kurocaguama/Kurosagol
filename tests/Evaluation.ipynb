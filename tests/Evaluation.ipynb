{
 "cells": [
  {
   "cell_type": "code",
   "execution_count": 2,
   "id": "29351f5e-83c1-44f5-ba26-f5046c28bfc7",
   "metadata": {},
   "outputs": [
    {
     "data": {
      "text/plain": [
       "'∀x (InThisClub(x) ∧ PerformOftenIn(x, schoolTalentShow) → Attend(x, schoolEvent) ∧ VeryEngagedWith(x, schoolEvent))\\n∀x (InThisClub(x) → PerformOftenIn(x, schoolTalentShow) ⊕ (InActive(x) ∧ Disinterested(x) ∧ MemberOf(x, community)))\\n∀x (InThisClub(x) ∧ Chaperone(x, highSchoolDance) → ¬(Studen(x) ∧ AttendSchool(x)))\\n∀x (InThisClub(x) ∧ (InActive(x) ∧ Disinterested(x) ∧ MemberOf(x, community)) → Chaperone(x, highSchoolDances))\\n∀x (InThisClub(x) ∧ (YoungChildren(x) ⊕ Teenager(x)) ∧ WishToFurther(x, academicCareer)) → Studen(x) ∧ AttendSchool(x))\\nInThisClub(bonnie) ∧ ¬((Attend(x, schoolEvent) ∧ VeryEngagedWith(bonnie, schoolEvent)) ⊕ (Studen(bonne) ∧ AttendSchool(bonnie)))'"
      ]
     },
     "execution_count": 2,
     "metadata": {},
     "output_type": "execute_result"
    }
   ],
   "source": [
    "from datasets import load_dataset\n",
    "\n",
    "folio = load_dataset('yale-nlp/FOLIO', split = 'validation')\n",
    "trans = folio['premises-FOL'][0]\n",
    "trans"
   ]
  },
  {
   "cell_type": "code",
   "execution_count": 3,
   "id": "c2a869d0-e7f7-449f-a34a-3ce18cede26e",
   "metadata": {},
   "outputs": [
    {
     "data": {
      "text/plain": [
       "['∀x (InThisClub(x) ∧ PerformOftenIn(x, schoolTalentShow) → Attend(x, schoolEvent) ∧ VeryEngagedWith(x, schoolEvent))',\n",
       " '∀x (InThisClub(x) → PerformOftenIn(x, schoolTalentShow) ⊕ (InActive(x) ∧ Disinterested(x) ∧ MemberOf(x, community)))',\n",
       " '∀x (InThisClub(x) ∧ Chaperone(x, highSchoolDance) → ¬(Studen(x) ∧ AttendSchool(x)))',\n",
       " '∀x (InThisClub(x) ∧ (InActive(x) ∧ Disinterested(x) ∧ MemberOf(x, community)) → Chaperone(x, highSchoolDances))',\n",
       " '∀x (InThisClub(x) ∧ (YoungChildren(x) ⊕ Teenager(x)) ∧ WishToFurther(x, academicCareer)) → Studen(x) ∧ AttendSchool(x))',\n",
       " 'InThisClub(bonnie) ∧ ¬((Attend(x, schoolEvent) ∧ VeryEngagedWith(bonnie, schoolEvent)) ⊕ (Studen(bonne) ∧ AttendSchool(bonnie)))']"
      ]
     },
     "execution_count": 3,
     "metadata": {},
     "output_type": "execute_result"
    }
   ],
   "source": [
    "new_val = trans.split('\\n')\n",
    "new_val"
   ]
  },
  {
   "cell_type": "code",
   "execution_count": 6,
   "id": "40f0a21c-bd3c-42c8-a883-2b79e37dc7b2",
   "metadata": {},
   "outputs": [
    {
     "name": "stdout",
     "output_type": "stream",
     "text": [
      "['InThisClub(x)', 'PerformOftenIn(x, schoolTalentShow)', 'Attend(x, schoolEvent)', 'VeryEngagedWith(x, schoolEvent)']\n",
      "['InThisClub(x)', 'PerformOftenIn(x, schoolTalentShow)', 'InActive(x)', 'Disinterested(x)', 'MemberOf(x, community)']\n",
      "['InThisClub(x)', 'Chaperone(x, highSchoolDance)', 'Studen(x)', 'AttendSchool(x)']\n",
      "['InThisClub(x)', 'InActive(x)', 'Disinterested(x)', 'MemberOf(x, community)', 'Chaperone(x, highSchoolDances)']\n",
      "['InThisClub(x)', 'YoungChildren(x)', 'Teenager(x)', 'WishToFurther(x, academicCareer)', 'Studen(x)', 'AttendSchool(x)']\n",
      "['InThisClub(bonnie)', 'Attend(x, schoolEvent)', 'VeryEngagedWith(bonnie, schoolEvent)', 'Studen(bonne)', 'AttendSchool(bonnie)']\n"
     ]
    }
   ],
   "source": [
    "import re\n",
    "\n",
    "for _ in new_val:\n",
    "    function_list = []\n",
    "    aux = re.finditer(r'[A-z]+\\(([A-z]+(,? [A-z]+)*)\\)', _)\n",
    "    for regex in aux:\n",
    "        function_list.append(regex.group())\n",
    "    print(function_list)"
   ]
  },
  {
   "cell_type": "code",
   "execution_count": 14,
   "id": "5a563169-77cf-4f87-a190-0efc1ac56987",
   "metadata": {},
   "outputs": [
    {
     "data": {
      "text/plain": [
       "(6, 29, 18)"
      ]
     },
     "execution_count": 14,
     "metadata": {},
     "output_type": "execute_result"
    }
   ],
   "source": [
    "def premise_per_answer(ds_answer):\n",
    "    \"\"\"\n",
    "    len(instance) = Cantidad de premisas en el conjunto de datos\n",
    "    len(function_list) = Cantidad de apariciones de funciones en las premisas\n",
    "    len(function_set) = Apariciones individuales de funciones con variables.\n",
    "    \"\"\"\n",
    "    instance = ds_answer.split('\\n')\n",
    "    function_list = []\n",
    "    for _ in instance:\n",
    "        aux = re.finditer(r'[A-z]+\\(([A-z]+(,? [A-z]+)*)\\)', _)\n",
    "        for regex in aux:\n",
    "            function_list.append(regex.group())\n",
    "    function_set = list(set(function_list))\n",
    "    return function_list, len(instance), len(function_list), len(function_set)\n",
    "\n",
    "premise_per_answer(folio['premises-FOL'][1])[1:]"
   ]
  },
  {
   "cell_type": "code",
   "execution_count": null,
   "id": "ef9088cb-6bc7-4dff-b901-e285a36d4438",
   "metadata": {},
   "outputs": [],
   "source": []
  }
 ],
 "metadata": {
  "kernelspec": {
   "display_name": "Python 3 (ipykernel)",
   "language": "python",
   "name": "python3"
  },
  "language_info": {
   "codemirror_mode": {
    "name": "ipython",
    "version": 3
   },
   "file_extension": ".py",
   "mimetype": "text/x-python",
   "name": "python",
   "nbconvert_exporter": "python",
   "pygments_lexer": "ipython3",
   "version": "3.11.9"
  }
 },
 "nbformat": 4,
 "nbformat_minor": 5
}
