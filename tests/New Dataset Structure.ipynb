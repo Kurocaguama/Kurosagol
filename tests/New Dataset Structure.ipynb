{
 "cells": [
  {
   "cell_type": "markdown",
   "id": "97d4c2c4-4899-4602-bf70-a2a367a6a777",
   "metadata": {},
   "source": [
    "**MORALEJA**\n",
    "\n",
    "Se puede tener un dataset maestro que contenga todos los splits del TIR. Solo hay que verificar que tengan las mismas columnas."
   ]
  },
  {
   "cell_type": "code",
   "execution_count": 2,
   "id": "d5f1bdce-18f0-48c3-8355-fc618205a973",
   "metadata": {},
   "outputs": [
    {
     "data": {
      "text/plain": [
       "Dataset({\n",
       "    features: ['prueba'],\n",
       "    num_rows: 20\n",
       "})"
      ]
     },
     "execution_count": 2,
     "metadata": {},
     "output_type": "execute_result"
    }
   ],
   "source": [
    "from datasets import Dataset\n",
    "import pandas as pd\n",
    "import random\n",
    "\n",
    "values = [random.randint(0,10) for i in range(20)]\n",
    "test_data = {'prueba':values}\n",
    "df = pd.DataFrame(data = test_data)\n",
    "ds = Dataset.from_pandas(df)\n",
    "ds"
   ]
  },
  {
   "cell_type": "code",
   "execution_count": 5,
   "id": "470bc6c5-e4d6-49b5-8a14-a52b950c51c0",
   "metadata": {},
   "outputs": [
    {
     "data": {
      "application/vnd.jupyter.widget-view+json": {
       "model_id": "a19e05e60f9b426db08d476ac88b8c8a",
       "version_major": 2,
       "version_minor": 0
      },
      "text/plain": [
       "Uploading the dataset shards:   0%|          | 0/1 [00:00<?, ?it/s]"
      ]
     },
     "metadata": {},
     "output_type": "display_data"
    },
    {
     "data": {
      "application/vnd.jupyter.widget-view+json": {
       "model_id": "27f18d9c742942fd920515eed2e7e278",
       "version_major": 2,
       "version_minor": 0
      },
      "text/plain": [
       "Creating parquet from Arrow format:   0%|          | 0/1 [00:00<?, ?ba/s]"
      ]
     },
     "metadata": {},
     "output_type": "display_data"
    },
    {
     "data": {
      "text/plain": [
       "CommitInfo(commit_url='https://huggingface.co/datasets/Kurosawama/Prueba-VivaMessi/commit/b0e79904b667f90113ede32c870960666c7fcb26', commit_message='Upload dataset', commit_description='', oid='b0e79904b667f90113ede32c870960666c7fcb26', pr_url=None, repo_url=RepoUrl('https://huggingface.co/datasets/Kurosawama/Prueba-VivaMessi', endpoint='https://huggingface.co', repo_type='dataset', repo_id='Kurosawama/Prueba-VivaMessi'), pr_revision=None, pr_num=None)"
      ]
     },
     "execution_count": 5,
     "metadata": {},
     "output_type": "execute_result"
    }
   ],
   "source": [
    "ds.push_to_hub('Kurosawama/Prueba-VivaMessi', split = 'translate')"
   ]
  },
  {
   "cell_type": "code",
   "execution_count": 12,
   "id": "5aabda38-9d5e-44de-a8bd-f86cef300748",
   "metadata": {},
   "outputs": [
    {
     "data": {
      "text/plain": [
       "Dataset({\n",
       "    features: ['prueba'],\n",
       "    num_rows: 20\n",
       "})"
      ]
     },
     "execution_count": 12,
     "metadata": {},
     "output_type": "execute_result"
    }
   ],
   "source": [
    "values1 = [random.randint(10,1000) for i in range(20)]\n",
    "test_data_new = {'prueba': values1}\n",
    "df1 = pd.DataFrame(data = test_data_new)\n",
    "ds1 = Dataset.from_pandas(df1)\n",
    "ds1"
   ]
  },
  {
   "cell_type": "code",
   "execution_count": 13,
   "id": "bb14ac08-6e89-4896-bf9a-bad1d79414dc",
   "metadata": {},
   "outputs": [
    {
     "data": {
      "application/vnd.jupyter.widget-view+json": {
       "model_id": "1434cb9320354d358c1f7f0f2668b48f",
       "version_major": 2,
       "version_minor": 0
      },
      "text/plain": [
       "Uploading the dataset shards:   0%|          | 0/1 [00:00<?, ?it/s]"
      ]
     },
     "metadata": {},
     "output_type": "display_data"
    },
    {
     "data": {
      "application/vnd.jupyter.widget-view+json": {
       "model_id": "151e8edcbe2540d49394bb77f3a07aaf",
       "version_major": 2,
       "version_minor": 0
      },
      "text/plain": [
       "Creating parquet from Arrow format:   0%|          | 0/1 [00:00<?, ?ba/s]"
      ]
     },
     "metadata": {},
     "output_type": "display_data"
    },
    {
     "data": {
      "text/plain": [
       "CommitInfo(commit_url='https://huggingface.co/datasets/Kurosawama/Prueba-VivaMessi/commit/e583b19becfd4d4dc04d40ffbb20f5e324cdf703', commit_message='Upload dataset', commit_description='', oid='e583b19becfd4d4dc04d40ffbb20f5e324cdf703', pr_url=None, repo_url=RepoUrl('https://huggingface.co/datasets/Kurosawama/Prueba-VivaMessi', endpoint='https://huggingface.co', repo_type='dataset', repo_id='Kurosawama/Prueba-VivaMessi'), pr_revision=None, pr_num=None)"
      ]
     },
     "execution_count": 13,
     "metadata": {},
     "output_type": "execute_result"
    }
   ],
   "source": [
    "ds1.push_to_hub('Kurosawama/Prueba-VivaMessi', split = 'inference')"
   ]
  },
  {
   "cell_type": "code",
   "execution_count": 15,
   "id": "6107a1d3-bb47-4704-8885-1611a73df62a",
   "metadata": {},
   "outputs": [
    {
     "data": {
      "application/vnd.jupyter.widget-view+json": {
       "model_id": "767a25f2b9de48669c717861b4e539bd",
       "version_major": 2,
       "version_minor": 0
      },
      "text/plain": [
       "README.md:   0%|          | 0.00/382 [00:00<?, ?B/s]"
      ]
     },
     "metadata": {},
     "output_type": "display_data"
    },
    {
     "name": "stderr",
     "output_type": "stream",
     "text": [
      "Xet Storage is enabled for this repo, but the 'hf_xet' package is not installed. Falling back to regular HTTP download. For better performance, install the package with: `pip install huggingface_hub[hf_xet]` or `pip install hf_xet`\n"
     ]
    },
    {
     "data": {
      "application/vnd.jupyter.widget-view+json": {
       "model_id": "d4af3ed6a6574ea58a84c2767dad5c4c",
       "version_major": 2,
       "version_minor": 0
      },
      "text/plain": [
       "translate-00000-of-00001.parquet:   0%|          | 0.00/800 [00:00<?, ?B/s]"
      ]
     },
     "metadata": {},
     "output_type": "display_data"
    },
    {
     "data": {
      "application/vnd.jupyter.widget-view+json": {
       "model_id": "b239b4ab970a4d8c85dc632b2e0f2eab",
       "version_major": 2,
       "version_minor": 0
      },
      "text/plain": [
       "inference-00000-of-00001.parquet:   0%|          | 0.00/854 [00:00<?, ?B/s]"
      ]
     },
     "metadata": {},
     "output_type": "display_data"
    },
    {
     "data": {
      "application/vnd.jupyter.widget-view+json": {
       "model_id": "13049e61ea2e45ddae34a35c3ba2d02d",
       "version_major": 2,
       "version_minor": 0
      },
      "text/plain": [
       "Generating translate split:   0%|          | 0/20 [00:00<?, ? examples/s]"
      ]
     },
     "metadata": {},
     "output_type": "display_data"
    },
    {
     "data": {
      "application/vnd.jupyter.widget-view+json": {
       "model_id": "9bdf22fff664411c8451428ae29e4f74",
       "version_major": 2,
       "version_minor": 0
      },
      "text/plain": [
       "Generating inference split:   0%|          | 0/20 [00:00<?, ? examples/s]"
      ]
     },
     "metadata": {},
     "output_type": "display_data"
    },
    {
     "data": {
      "text/plain": [
       "DatasetDict({\n",
       "    translate: Dataset({\n",
       "        features: ['prueba'],\n",
       "        num_rows: 20\n",
       "    })\n",
       "    inference: Dataset({\n",
       "        features: ['prueba'],\n",
       "        num_rows: 20\n",
       "    })\n",
       "})"
      ]
     },
     "execution_count": 15,
     "metadata": {},
     "output_type": "execute_result"
    }
   ],
   "source": [
    "from datasets import load_dataset\n",
    "checking = load_dataset('Kurosawama/Prueba-VivaMessi')\n",
    "checking"
   ]
  },
  {
   "cell_type": "code",
   "execution_count": 17,
   "id": "0377ae6c-3479-410a-9db8-0a094b23b83c",
   "metadata": {},
   "outputs": [
    {
     "data": {
      "application/vnd.jupyter.widget-view+json": {
       "model_id": "a7ac5e76d1774e7d942f5176a5242694",
       "version_major": 2,
       "version_minor": 0
      },
      "text/plain": [
       "Uploading the dataset shards:   0%|          | 0/1 [00:00<?, ?it/s]"
      ]
     },
     "metadata": {},
     "output_type": "display_data"
    },
    {
     "data": {
      "application/vnd.jupyter.widget-view+json": {
       "model_id": "3a44510e3b8a474998d1da679c74239a",
       "version_major": 2,
       "version_minor": 0
      },
      "text/plain": [
       "Creating parquet from Arrow format:   0%|          | 0/1 [00:00<?, ?ba/s]"
      ]
     },
     "metadata": {},
     "output_type": "display_data"
    },
    {
     "data": {
      "text/plain": [
       "CommitInfo(commit_url='https://huggingface.co/datasets/Kurosawama/Prueba-VivaMessi/commit/64fbd2d343d3f605ed250a75f050c704824aea23', commit_message='Upload dataset', commit_description='', oid='64fbd2d343d3f605ed250a75f050c704824aea23', pr_url=None, repo_url=RepoUrl('https://huggingface.co/datasets/Kurosawama/Prueba-VivaMessi', endpoint='https://huggingface.co', repo_type='dataset', repo_id='Kurosawama/Prueba-VivaMessi'), pr_revision=None, pr_num=None)"
      ]
     },
     "execution_count": 17,
     "metadata": {},
     "output_type": "execute_result"
    }
   ],
   "source": [
    "dict_ds = {'prueba': [0 for i in range(69)]}\n",
    "df_test = pd.DataFrame(data=dict_ds)\n",
    "ds_test = Dataset.from_pandas(df_test)\n",
    "ds_test.push_to_hub('Kurosawama/Prueba-VivaMessi', split = 'messisexo')"
   ]
  },
  {
   "cell_type": "code",
   "execution_count": 18,
   "id": "c7861014-dc31-4f11-9d05-b97da44f0537",
   "metadata": {},
   "outputs": [
    {
     "data": {
      "application/vnd.jupyter.widget-view+json": {
       "model_id": "3e382179106c451caada2e58646d875c",
       "version_major": 2,
       "version_minor": 0
      },
      "text/plain": [
       "README.md:   0%|          | 0.00/490 [00:00<?, ?B/s]"
      ]
     },
     "metadata": {},
     "output_type": "display_data"
    },
    {
     "name": "stderr",
     "output_type": "stream",
     "text": [
      "Xet Storage is enabled for this repo, but the 'hf_xet' package is not installed. Falling back to regular HTTP download. For better performance, install the package with: `pip install huggingface_hub[hf_xet]` or `pip install hf_xet`\n"
     ]
    },
    {
     "data": {
      "application/vnd.jupyter.widget-view+json": {
       "model_id": "3f7b05e00174450e9c1fa71d469f1068",
       "version_major": 2,
       "version_minor": 0
      },
      "text/plain": [
       "messisexo-00000-of-00001.parquet:   0%|          | 0.00/758 [00:00<?, ?B/s]"
      ]
     },
     "metadata": {},
     "output_type": "display_data"
    },
    {
     "data": {
      "application/vnd.jupyter.widget-view+json": {
       "model_id": "bdfcb13cac3640d387d94180e3ec0168",
       "version_major": 2,
       "version_minor": 0
      },
      "text/plain": [
       "Generating translate split:   0%|          | 0/20 [00:00<?, ? examples/s]"
      ]
     },
     "metadata": {},
     "output_type": "display_data"
    },
    {
     "data": {
      "application/vnd.jupyter.widget-view+json": {
       "model_id": "083b08999ddc42b59dede7e78d925f0b",
       "version_major": 2,
       "version_minor": 0
      },
      "text/plain": [
       "Generating inference split:   0%|          | 0/20 [00:00<?, ? examples/s]"
      ]
     },
     "metadata": {},
     "output_type": "display_data"
    },
    {
     "data": {
      "application/vnd.jupyter.widget-view+json": {
       "model_id": "9c17c6e638a44200bbcf167e604e7302",
       "version_major": 2,
       "version_minor": 0
      },
      "text/plain": [
       "Generating messisexo split:   0%|          | 0/69 [00:00<?, ? examples/s]"
      ]
     },
     "metadata": {},
     "output_type": "display_data"
    },
    {
     "data": {
      "text/plain": [
       "DatasetDict({\n",
       "    translate: Dataset({\n",
       "        features: ['prueba'],\n",
       "        num_rows: 20\n",
       "    })\n",
       "    inference: Dataset({\n",
       "        features: ['prueba'],\n",
       "        num_rows: 20\n",
       "    })\n",
       "    messisexo: Dataset({\n",
       "        features: ['prueba'],\n",
       "        num_rows: 69\n",
       "    })\n",
       "})"
      ]
     },
     "execution_count": 18,
     "metadata": {},
     "output_type": "execute_result"
    }
   ],
   "source": [
    "checking2 = load_dataset('Kurosawama/Prueba-VivaMessi')\n",
    "checking2"
   ]
  },
  {
   "cell_type": "code",
   "execution_count": null,
   "id": "602cbb50-9f9e-4bea-a9ce-3a1098e7afdf",
   "metadata": {},
   "outputs": [],
   "source": []
  }
 ],
 "metadata": {
  "kernelspec": {
   "display_name": "Python 3 (ipykernel)",
   "language": "python",
   "name": "python3"
  },
  "language_info": {
   "codemirror_mode": {
    "name": "ipython",
    "version": 3
   },
   "file_extension": ".py",
   "mimetype": "text/x-python",
   "name": "python",
   "nbconvert_exporter": "python",
   "pygments_lexer": "ipython3",
   "version": "3.9.18"
  }
 },
 "nbformat": 4,
 "nbformat_minor": 5
}
